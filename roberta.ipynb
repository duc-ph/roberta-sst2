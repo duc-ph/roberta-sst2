{
 "cells": [
  {
   "cell_type": "code",
   "execution_count": 2,
   "metadata": {},
   "outputs": [],
   "source": [
    "# !pip install transformers datasets jupyter notebook"
   ]
  },
  {
   "cell_type": "code",
   "execution_count": 11,
   "metadata": {},
   "outputs": [],
   "source": [
    "import torch\n",
    "import torch.nn.functional as F\n",
    "from torch.utils.data import Dataset, DataLoader\n",
    "from torch.optim import Adam\n",
    "from transformers import RobertaTokenizer, RobertaForSequenceClassification\n",
    "from datasets import load_dataset\n",
    "\n",
    "device = torch.device(\"cuda\" if torch.cuda.is_available() else \"cpu\")"
   ]
  },
  {
   "cell_type": "code",
   "execution_count": 51,
   "metadata": {},
   "outputs": [
    {
     "name": "stderr",
     "output_type": "stream",
     "text": [
      "Some weights of RobertaForSequenceClassification were not initialized from the model checkpoint at roberta-base and are newly initialized: ['classifier.dense.bias', 'classifier.dense.weight', 'classifier.out_proj.bias', 'classifier.out_proj.weight']\n",
      "You should probably TRAIN this model on a down-stream task to be able to use it for predictions and inference.\n"
     ]
    },
    {
     "data": {
      "text/plain": [
       "RobertaForSequenceClassification(\n",
       "  (roberta): RobertaModel(\n",
       "    (embeddings): RobertaEmbeddings(\n",
       "      (word_embeddings): Embedding(50265, 768, padding_idx=1)\n",
       "      (position_embeddings): Embedding(514, 768, padding_idx=1)\n",
       "      (token_type_embeddings): Embedding(1, 768)\n",
       "      (LayerNorm): LayerNorm((768,), eps=1e-05, elementwise_affine=True)\n",
       "      (dropout): Dropout(p=0.1, inplace=False)\n",
       "    )\n",
       "    (encoder): RobertaEncoder(\n",
       "      (layer): ModuleList(\n",
       "        (0-11): 12 x RobertaLayer(\n",
       "          (attention): RobertaAttention(\n",
       "            (self): RobertaSdpaSelfAttention(\n",
       "              (query): Linear(in_features=768, out_features=768, bias=True)\n",
       "              (key): Linear(in_features=768, out_features=768, bias=True)\n",
       "              (value): Linear(in_features=768, out_features=768, bias=True)\n",
       "              (dropout): Dropout(p=0.1, inplace=False)\n",
       "            )\n",
       "            (output): RobertaSelfOutput(\n",
       "              (dense): Linear(in_features=768, out_features=768, bias=True)\n",
       "              (LayerNorm): LayerNorm((768,), eps=1e-05, elementwise_affine=True)\n",
       "              (dropout): Dropout(p=0.1, inplace=False)\n",
       "            )\n",
       "          )\n",
       "          (intermediate): RobertaIntermediate(\n",
       "            (dense): Linear(in_features=768, out_features=3072, bias=True)\n",
       "            (intermediate_act_fn): GELUActivation()\n",
       "          )\n",
       "          (output): RobertaOutput(\n",
       "            (dense): Linear(in_features=3072, out_features=768, bias=True)\n",
       "            (LayerNorm): LayerNorm((768,), eps=1e-05, elementwise_affine=True)\n",
       "            (dropout): Dropout(p=0.1, inplace=False)\n",
       "          )\n",
       "        )\n",
       "      )\n",
       "    )\n",
       "  )\n",
       "  (classifier): RobertaClassificationHead(\n",
       "    (dense): Linear(in_features=768, out_features=768, bias=True)\n",
       "    (dropout): Dropout(p=0.1, inplace=False)\n",
       "    (out_proj): Linear(in_features=768, out_features=2, bias=True)\n",
       "  )\n",
       ")"
      ]
     },
     "execution_count": 51,
     "metadata": {},
     "output_type": "execute_result"
    }
   ],
   "source": [
    "tokenizer = RobertaTokenizer.from_pretrained(\"roberta-base\")\n",
    "model = RobertaForSequenceClassification.from_pretrained(\"roberta-base\", num_labels=2)  # For binary classification\n",
    "model.to(device)"
   ]
  },
  {
   "cell_type": "markdown",
   "metadata": {},
   "source": [
    "### Tokenize the dataset"
   ]
  },
  {
   "cell_type": "code",
   "execution_count": 3,
   "metadata": {},
   "outputs": [],
   "source": [
    "dataset = load_dataset(\"glue\", \"sst2\")\n",
    "\n",
    "train_data = dataset[\"train\"]\n",
    "validation_data = dataset[\"validation\"]\n",
    "test_data = dataset[\"test\"]"
   ]
  },
  {
   "cell_type": "code",
   "execution_count": 4,
   "metadata": {},
   "outputs": [
    {
     "data": {
      "text/plain": [
       "{'sentence': 'hide new secretions from the parental units ',\n",
       " 'label': 0,\n",
       " 'idx': 0}"
      ]
     },
     "execution_count": 4,
     "metadata": {},
     "output_type": "execute_result"
    }
   ],
   "source": [
    "train_data[0]"
   ]
  },
  {
   "cell_type": "code",
   "execution_count": 5,
   "metadata": {},
   "outputs": [],
   "source": [
    "X_train, X_val, X_test, y_train, y_val, y_test = [[] for _ in range(6)]\n",
    "for split, xb, yb in zip([train_data, validation_data, test_data], [X_train, X_val, X_test], [y_train, y_val, y_test]):\n",
    "    for observation in split:\n",
    "        sentence, label, _ = observation.values()\n",
    "        xb.append(sentence)\n",
    "        yb.append(label)\n",
    "    \n",
    "    xb = tokenizer(xb, return_tensors='pt', padding=True, truncation=True, max_length=512).to(device)"
   ]
  },
  {
   "cell_type": "code",
   "execution_count": 6,
   "metadata": {},
   "outputs": [],
   "source": [
    "X_train = tokenizer(X_train, return_tensors='pt', padding=True, truncation=True, max_length=512).to(device)\n",
    "X_val = tokenizer(X_val, return_tensors='pt', padding=True, truncation=True, max_length=512).to(device)\n",
    "X_test = tokenizer(X_test, return_tensors='pt', padding=True, truncation=True, max_length=512).to(device)"
   ]
  },
  {
   "cell_type": "code",
   "execution_count": 42,
   "metadata": {},
   "outputs": [],
   "source": [
    "class SST2Dataset(Dataset):\n",
    "    def __init__(self, X, y):\n",
    "        self.X = X\n",
    "        self.y = y\n",
    "    \n",
    "    def __len__(self):\n",
    "        return self.y.shape[0]\n",
    "\n",
    "    def __getitem__(self, idx):\n",
    "        x = {\n",
    "            'input_ids': self.X['input_ids'][idx, :].to(device),\n",
    "            'attention_mask': self.X['attention_mask'][idx, :].to(device)\n",
    "        }\n",
    "        label = self.y[idx]\n",
    "        y = torch.Tensor([1.0, 0.0]) if label == 0 else torch.Tensor([0.0, 1.0])\n",
    "        y = y.to(device)\n",
    "        return x, y"
   ]
  },
  {
   "cell_type": "code",
   "execution_count": 43,
   "metadata": {},
   "outputs": [],
   "source": [
    "batch_size = 32\n",
    "num_epochs = 3"
   ]
  },
  {
   "cell_type": "code",
   "execution_count": 52,
   "metadata": {},
   "outputs": [],
   "source": [
    "train_dataset = SST2Dataset(X_train, y_train)\n",
    "train_dataloader = DataLoader(train_dataset, batch_size=batch_size, shuffle=True)\n",
    "\n",
    "val_dataset = SST2Dataset(X_val, y_val)\n",
    "val_dataloader = DataLoader(val_dataset, batch_size=batch_size)"
   ]
  },
  {
   "cell_type": "markdown",
   "metadata": {},
   "source": [
    "### Get accuracy before fine-tuning."
   ]
  },
  {
   "cell_type": "code",
   "execution_count": 54,
   "metadata": {},
   "outputs": [
    {
     "name": "stdout",
     "output_type": "stream",
     "text": [
      "tensor(0.5089)\n"
     ]
    }
   ],
   "source": [
    "accuracies = []\n",
    "\n",
    "model.eval()\n",
    "with torch.no_grad():\n",
    "    for batch_idx, (x, y) in enumerate(val_dataloader):\n",
    "        logits = model(**x).logits\n",
    "        softmax = F.softmax(logits, dim=1)\n",
    "        y_preds = torch.argmax(softmax, dim=1)\n",
    "        y = torch.Tensor([x[1] for x in y]).to(device)\n",
    "        accuracy = (torch.sum(y_preds == y)/len(y)).item()\n",
    "        accuracies.append(accuracy)\n",
    "\n",
    "print(torch.mean(torch.Tensor(accuracies)))\n"
   ]
  },
  {
   "cell_type": "code",
   "execution_count": 47,
   "metadata": {},
   "outputs": [
    {
     "data": {
      "text/plain": [
       "67349"
      ]
     },
     "execution_count": 47,
     "metadata": {},
     "output_type": "execute_result"
    }
   ],
   "source": [
    "len(train_dataset)"
   ]
  },
  {
   "cell_type": "code",
   "execution_count": 55,
   "metadata": {},
   "outputs": [
    {
     "name": "stdout",
     "output_type": "stream",
     "text": [
      "Epoch [1/3], Step [1/2105], Loss: 0.6957\n",
      "Epoch [1/3], Step [101/2105], Loss: 0.5393\n",
      "Epoch [1/3], Step [201/2105], Loss: 0.3685\n",
      "Epoch [1/3], Step [301/2105], Loss: 0.1532\n",
      "Epoch [1/3], Step [401/2105], Loss: 0.5114\n",
      "Epoch [1/3], Step [501/2105], Loss: 0.3916\n",
      "Epoch [1/3], Step [601/2105], Loss: 0.3165\n",
      "Epoch [1/3], Step [701/2105], Loss: 0.3809\n",
      "Epoch [1/3], Step [801/2105], Loss: 0.1698\n",
      "Epoch [1/3], Step [901/2105], Loss: 0.3512\n",
      "Epoch [1/3], Step [1001/2105], Loss: 0.1893\n",
      "Epoch [1/3], Step [1101/2105], Loss: 0.4392\n",
      "Epoch [1/3], Step [1201/2105], Loss: 0.4482\n",
      "Epoch [1/3], Step [1301/2105], Loss: 0.2900\n",
      "Epoch [1/3], Step [1401/2105], Loss: 0.2921\n",
      "Epoch [1/3], Step [1501/2105], Loss: 0.2874\n",
      "Epoch [1/3], Step [1601/2105], Loss: 0.3353\n",
      "Epoch [1/3], Step [1701/2105], Loss: 0.3340\n",
      "Epoch [1/3], Step [1801/2105], Loss: 0.4084\n",
      "Epoch [1/3], Step [1901/2105], Loss: 0.3014\n",
      "Epoch [1/3], Step [2001/2105], Loss: 0.3713\n",
      "Epoch [1/3], Step [2101/2105], Loss: 0.2741\n",
      "Epoch [1/3] summary\n",
      "    Train loss: 0.3529\n",
      "    Validation loss: 0.3764\n",
      "    Accuracy: 0.8281\n",
      "========================================\n",
      "Epoch [2/3], Step [1/2105], Loss: 0.2682\n",
      "Epoch [2/3], Step [101/2105], Loss: 0.2971\n",
      "Epoch [2/3], Step [201/2105], Loss: 0.3186\n",
      "Epoch [2/3], Step [301/2105], Loss: 0.3896\n",
      "Epoch [2/3], Step [401/2105], Loss: 0.2393\n",
      "Epoch [2/3], Step [501/2105], Loss: 0.2527\n",
      "Epoch [2/3], Step [601/2105], Loss: 0.4492\n",
      "Epoch [2/3], Step [701/2105], Loss: 0.2107\n",
      "Epoch [2/3], Step [801/2105], Loss: 0.3553\n",
      "Epoch [2/3], Step [901/2105], Loss: 0.2284\n",
      "Epoch [2/3], Step [1001/2105], Loss: 0.2377\n",
      "Epoch [2/3], Step [1101/2105], Loss: 0.4047\n",
      "Epoch [2/3], Step [1201/2105], Loss: 0.1572\n",
      "Epoch [2/3], Step [1301/2105], Loss: 0.3747\n",
      "Epoch [2/3], Step [1401/2105], Loss: 0.3424\n",
      "Epoch [2/3], Step [1501/2105], Loss: 0.3282\n",
      "Epoch [2/3], Step [1601/2105], Loss: 0.2819\n",
      "Epoch [2/3], Step [1701/2105], Loss: 0.4527\n",
      "Epoch [2/3], Step [1801/2105], Loss: 0.5835\n",
      "Epoch [2/3], Step [1901/2105], Loss: 0.3469\n",
      "Epoch [2/3], Step [2001/2105], Loss: 0.4586\n",
      "Epoch [2/3], Step [2101/2105], Loss: 0.1898\n",
      "Epoch [2/3] summary\n",
      "    Train loss: 0.3604\n",
      "    Validation loss: 0.3900\n",
      "    Accuracy: 0.8170\n",
      "========================================\n",
      "Epoch [3/3], Step [1/2105], Loss: 0.2247\n",
      "Epoch [3/3], Step [101/2105], Loss: 0.2137\n",
      "Epoch [3/3], Step [201/2105], Loss: 0.2313\n",
      "Epoch [3/3], Step [301/2105], Loss: 0.3208\n",
      "Epoch [3/3], Step [401/2105], Loss: 0.2494\n",
      "Epoch [3/3], Step [501/2105], Loss: 0.2612\n",
      "Epoch [3/3], Step [601/2105], Loss: 0.3300\n",
      "Epoch [3/3], Step [701/2105], Loss: 0.2950\n",
      "Epoch [3/3], Step [801/2105], Loss: 0.6272\n",
      "Epoch [3/3], Step [901/2105], Loss: 0.3771\n",
      "Epoch [3/3], Step [1001/2105], Loss: 0.2533\n",
      "Epoch [3/3], Step [1101/2105], Loss: 0.1990\n",
      "Epoch [3/3], Step [1201/2105], Loss: 0.5288\n",
      "Epoch [3/3], Step [1301/2105], Loss: 0.3176\n",
      "Epoch [3/3], Step [1401/2105], Loss: 0.4029\n",
      "Epoch [3/3], Step [1501/2105], Loss: 0.2220\n",
      "Epoch [3/3], Step [1601/2105], Loss: 0.2664\n",
      "Epoch [3/3], Step [1701/2105], Loss: 0.0879\n",
      "Epoch [3/3], Step [1801/2105], Loss: 0.3354\n",
      "Epoch [3/3], Step [1901/2105], Loss: 0.3327\n",
      "Epoch [3/3], Step [2001/2105], Loss: 0.4958\n",
      "Epoch [3/3], Step [2101/2105], Loss: 0.4095\n",
      "Epoch [3/3] summary\n",
      "    Train loss: 0.3276\n",
      "    Validation loss: 0.4377\n",
      "    Accuracy: 0.8181\n",
      "========================================\n"
     ]
    }
   ],
   "source": [
    "optimizer = Adam(\n",
    "    params=model.parameters(),\n",
    "    lr=5e-5,\n",
    "    betas=(0.9, 0.999),\n",
    "    weight_decay=0.01,\n",
    ")\n",
    "\n",
    "for epoch in range(num_epochs):\n",
    "    model.train()\n",
    "    train_loss = 0\n",
    "\n",
    "    for batch_idx, (x, y) in enumerate(train_dataloader):\n",
    "        optimizer.zero_grad()\n",
    "\n",
    "        # forward\n",
    "        logits = model(**x).logits\n",
    "        softmax = F.softmax(logits, dim=1)\n",
    "        loss = F.cross_entropy(logits, y)\n",
    "\n",
    "        # backprop\n",
    "        loss.backward()\n",
    "        optimizer.step()\n",
    "\n",
    "        train_loss += loss.item()\n",
    "\n",
    "        if batch_idx % 100 == 0:\n",
    "            print(f\"Epoch [{epoch+1}/{num_epochs}], Step [{batch_idx+1}/{len(train_dataloader)}], Loss: {loss.item():.4f}\")\n",
    "    \n",
    "    train_loss /= len(train_dataloader)\n",
    "    \n",
    "\n",
    "    # Get validation loss and accuracy\n",
    "    val_accuracy = 0\n",
    "    val_loss = 0\n",
    "\n",
    "    model.eval()\n",
    "    with torch.no_grad():\n",
    "        for batch_idx, (x, y) in enumerate(val_dataloader):\n",
    "            logits = model(**x).logits\n",
    "            softmax = F.softmax(logits, dim=1)\n",
    "            loss = F.cross_entropy(logits, y)\n",
    "            y_preds = torch.argmax(softmax, dim=1)\n",
    "            y = torch.Tensor([x[1] for x in y]).to(device)\n",
    "\n",
    "            accuracy = (torch.sum(y_preds == y)/len(y)).item()\n",
    "            val_accuracy += accuracy\n",
    "            val_loss += loss.item()\n",
    "    \n",
    "    val_accuracy /= len(val_dataloader)\n",
    "    val_loss /= len(val_dataloader)\n",
    "\n",
    "    print(f\"Epoch [{epoch+1}/{num_epochs}] summary\")\n",
    "    print(f'    Train loss: {train_loss:.4f}')\n",
    "    print(f'    Validation loss: {val_loss:.4f}')\n",
    "    print(f'    Accuracy: {val_accuracy:.4f}')\n",
    "    print('========================================')"
   ]
  },
  {
   "cell_type": "code",
   "execution_count": 10,
   "metadata": {},
   "outputs": [],
   "source": [
    "batch = next(iter(train_dataloader))"
   ]
  },
  {
   "cell_type": "code",
   "execution_count": null,
   "metadata": {},
   "outputs": [],
   "source": [
    "x, y = batch"
   ]
  },
  {
   "cell_type": "code",
   "execution_count": 12,
   "metadata": {},
   "outputs": [
    {
     "data": {
      "text/plain": [
       "RobertaForSequenceClassification(\n",
       "  (roberta): RobertaModel(\n",
       "    (embeddings): RobertaEmbeddings(\n",
       "      (word_embeddings): Embedding(50265, 768, padding_idx=1)\n",
       "      (position_embeddings): Embedding(514, 768, padding_idx=1)\n",
       "      (token_type_embeddings): Embedding(1, 768)\n",
       "      (LayerNorm): LayerNorm((768,), eps=1e-05, elementwise_affine=True)\n",
       "      (dropout): Dropout(p=0.1, inplace=False)\n",
       "    )\n",
       "    (encoder): RobertaEncoder(\n",
       "      (layer): ModuleList(\n",
       "        (0-11): 12 x RobertaLayer(\n",
       "          (attention): RobertaAttention(\n",
       "            (self): RobertaSdpaSelfAttention(\n",
       "              (query): Linear(in_features=768, out_features=768, bias=True)\n",
       "              (key): Linear(in_features=768, out_features=768, bias=True)\n",
       "              (value): Linear(in_features=768, out_features=768, bias=True)\n",
       "              (dropout): Dropout(p=0.1, inplace=False)\n",
       "            )\n",
       "            (output): RobertaSelfOutput(\n",
       "              (dense): Linear(in_features=768, out_features=768, bias=True)\n",
       "              (LayerNorm): LayerNorm((768,), eps=1e-05, elementwise_affine=True)\n",
       "              (dropout): Dropout(p=0.1, inplace=False)\n",
       "            )\n",
       "          )\n",
       "          (intermediate): RobertaIntermediate(\n",
       "            (dense): Linear(in_features=768, out_features=3072, bias=True)\n",
       "            (intermediate_act_fn): GELUActivation()\n",
       "          )\n",
       "          (output): RobertaOutput(\n",
       "            (dense): Linear(in_features=3072, out_features=768, bias=True)\n",
       "            (LayerNorm): LayerNorm((768,), eps=1e-05, elementwise_affine=True)\n",
       "            (dropout): Dropout(p=0.1, inplace=False)\n",
       "          )\n",
       "        )\n",
       "      )\n",
       "    )\n",
       "  )\n",
       "  (classifier): RobertaClassificationHead(\n",
       "    (dense): Linear(in_features=768, out_features=768, bias=True)\n",
       "    (dropout): Dropout(p=0.1, inplace=False)\n",
       "    (out_proj): Linear(in_features=768, out_features=2, bias=True)\n",
       "  )\n",
       ")"
      ]
     },
     "execution_count": 12,
     "metadata": {},
     "output_type": "execute_result"
    }
   ],
   "source": [
    "model.eval()"
   ]
  },
  {
   "cell_type": "code",
   "execution_count": 13,
   "metadata": {},
   "outputs": [],
   "source": [
    "for parameter in model.parameters():\n",
    "    parameter.requires_grad = False"
   ]
  },
  {
   "cell_type": "code",
   "execution_count": 35,
   "metadata": {},
   "outputs": [],
   "source": [
    "# with torch.no_grad():\n",
    "output = model(**x)"
   ]
  },
  {
   "cell_type": "code",
   "execution_count": 10,
   "metadata": {},
   "outputs": [],
   "source": [
    "batch_size = 32\n",
    "eval_iters = 200"
   ]
  },
  {
   "cell_type": "code",
   "execution_count": null,
   "metadata": {},
   "outputs": [],
   "source": [
    "def get_batch(split):\n",
    "    data = X_train if split == 'train' else X_val\n",
    "    label = y_train if split == 'train' else y_val\n",
    "    idx = torch.randint(low=0, high=data['input_ids'].shape[0], size=(batch_size,))\n",
    "    xb = {k: v[idx] for k, v in data.items()}\n",
    "    yb = torch.tensor(label)[idx].to(device)\n",
    "    return xb, yb\n"
   ]
  },
  {
   "cell_type": "code",
   "execution_count": 12,
   "metadata": {},
   "outputs": [],
   "source": [
    "@torch.no_grad()\n",
    "def estimate_loss():\n",
    "    out = {}\n",
    "    model.eval()\n",
    "    for split in ['train', 'val']:\n",
    "        losses = torch.zeros(eval_iters)\n",
    "        accuracies = torch.clone(losses)\n",
    "\n",
    "        for k in range(eval_iters):\n",
    "            xb, yb = get_batch(split)\n",
    "            logits = model(**xb)['logits']\n",
    "            losses[k] = F.cross_entropy(logits, yb)\n",
    "\n",
    "            prob = F.softmax(logits, dim=1)\n",
    "            label = torch.argmax(prob, dim=1)\n",
    "            accuracy = torch.sum(label==yb) / len(yb)\n",
    "            accuracies[k] = accuracy\n",
    "        out[split] = losses.mean()\n",
    "        out[f'{split} accuracy'] = accuracies.mean()\n",
    "    model.train()\n",
    "    return out"
   ]
  },
  {
   "cell_type": "code",
   "execution_count": null,
   "metadata": {},
   "outputs": [],
   "source": []
  },
  {
   "cell_type": "code",
   "execution_count": 90,
   "metadata": {},
   "outputs": [
    {
     "data": {
      "text/plain": [
       "{'train': tensor(0.7785),\n",
       " 'train accuracy': tensor(0.4484),\n",
       " 'val': tensor(0.7504),\n",
       " 'val accuracy': tensor(0.4906)}"
      ]
     },
     "execution_count": 90,
     "metadata": {},
     "output_type": "execute_result"
    }
   ],
   "source": [
    "estimate_loss()"
   ]
  },
  {
   "cell_type": "code",
   "execution_count": 31,
   "metadata": {},
   "outputs": [],
   "source": [
    "xb, yb = get_batch('train')"
   ]
  },
  {
   "cell_type": "code",
   "execution_count": 33,
   "metadata": {},
   "outputs": [
    {
     "data": {
      "text/plain": [
       "RobertaForSequenceClassification(\n",
       "  (roberta): RobertaModel(\n",
       "    (embeddings): RobertaEmbeddings(\n",
       "      (word_embeddings): Embedding(50265, 768, padding_idx=1)\n",
       "      (position_embeddings): Embedding(514, 768, padding_idx=1)\n",
       "      (token_type_embeddings): Embedding(1, 768)\n",
       "      (LayerNorm): LayerNorm((768,), eps=1e-05, elementwise_affine=True)\n",
       "      (dropout): Dropout(p=0.1, inplace=False)\n",
       "    )\n",
       "    (encoder): RobertaEncoder(\n",
       "      (layer): ModuleList(\n",
       "        (0-11): 12 x RobertaLayer(\n",
       "          (attention): RobertaAttention(\n",
       "            (self): RobertaSdpaSelfAttention(\n",
       "              (query): Linear(in_features=768, out_features=768, bias=True)\n",
       "              (key): Linear(in_features=768, out_features=768, bias=True)\n",
       "              (value): Linear(in_features=768, out_features=768, bias=True)\n",
       "              (dropout): Dropout(p=0.1, inplace=False)\n",
       "            )\n",
       "            (output): RobertaSelfOutput(\n",
       "              (dense): Linear(in_features=768, out_features=768, bias=True)\n",
       "              (LayerNorm): LayerNorm((768,), eps=1e-05, elementwise_affine=True)\n",
       "              (dropout): Dropout(p=0.1, inplace=False)\n",
       "            )\n",
       "          )\n",
       "          (intermediate): RobertaIntermediate(\n",
       "            (dense): Linear(in_features=768, out_features=3072, bias=True)\n",
       "            (intermediate_act_fn): GELUActivation()\n",
       "          )\n",
       "          (output): RobertaOutput(\n",
       "            (dense): Linear(in_features=3072, out_features=768, bias=True)\n",
       "            (LayerNorm): LayerNorm((768,), eps=1e-05, elementwise_affine=True)\n",
       "            (dropout): Dropout(p=0.1, inplace=False)\n",
       "          )\n",
       "        )\n",
       "      )\n",
       "    )\n",
       "  )\n",
       "  (classifier): RobertaClassificationHead(\n",
       "    (dense): Linear(in_features=768, out_features=768, bias=True)\n",
       "    (dropout): Dropout(p=0.1, inplace=False)\n",
       "    (out_proj): Linear(in_features=768, out_features=2, bias=True)\n",
       "  )\n",
       ")"
      ]
     },
     "execution_count": 33,
     "metadata": {},
     "output_type": "execute_result"
    }
   ],
   "source": [
    "model"
   ]
  },
  {
   "cell_type": "code",
   "execution_count": 34,
   "metadata": {},
   "outputs": [],
   "source": [
    "del model.classifier"
   ]
  },
  {
   "cell_type": "code",
   "execution_count": null,
   "metadata": {},
   "outputs": [],
   "source": []
  },
  {
   "cell_type": "markdown",
   "metadata": {},
   "source": []
  },
  {
   "cell_type": "code",
   "execution_count": null,
   "metadata": {},
   "outputs": [
    {
     "data": {
      "text/plain": [
       "RobertaEncoder(\n",
       "  (layer): ModuleList(\n",
       "    (0-11): 12 x RobertaLayer(\n",
       "      (attention): RobertaAttention(\n",
       "        (self): RobertaSdpaSelfAttention(\n",
       "          (query): Linear(in_features=768, out_features=768, bias=True)\n",
       "          (key): Linear(in_features=768, out_features=768, bias=True)\n",
       "          (value): Linear(in_features=768, out_features=768, bias=True)\n",
       "          (dropout): Dropout(p=0.1, inplace=False)\n",
       "        )\n",
       "        (output): RobertaSelfOutput(\n",
       "          (dense): Linear(in_features=768, out_features=768, bias=True)\n",
       "          (LayerNorm): LayerNorm((768,), eps=1e-05, elementwise_affine=True)\n",
       "          (dropout): Dropout(p=0.1, inplace=False)\n",
       "        )\n",
       "      )\n",
       "      (intermediate): RobertaIntermediate(\n",
       "        (dense): Linear(in_features=768, out_features=3072, bias=True)\n",
       "        (intermediate_act_fn): GELUActivation()\n",
       "      )\n",
       "      (output): RobertaOutput(\n",
       "        (dense): Linear(in_features=3072, out_features=768, bias=True)\n",
       "        (LayerNorm): LayerNorm((768,), eps=1e-05, elementwise_affine=True)\n",
       "        (dropout): Dropout(p=0.1, inplace=False)\n",
       "      )\n",
       "    )\n",
       "  )\n",
       ")"
      ]
     },
     "execution_count": 39,
     "metadata": {},
     "output_type": "execute_result"
    }
   ],
   "source": [
    "model.roberta.encoder."
   ]
  },
  {
   "cell_type": "code",
   "execution_count": null,
   "metadata": {},
   "outputs": [
    {
     "ename": "AttributeError",
     "evalue": "'Tensor' object has no attribute 'copy'",
     "output_type": "error",
     "traceback": [
      "\u001b[0;31m---------------------------------------------------------------------------\u001b[0m",
      "\u001b[0;31mAttributeError\u001b[0m                            Traceback (most recent call last)",
      "\u001b[0;32m/tmp/ipykernel_4275/2701226837.py\u001b[0m in \u001b[0;36m<module>\u001b[0;34m\u001b[0m\n\u001b[0;32m----> 1\u001b[0;31m \u001b[0mtorch\u001b[0m\u001b[0;34m.\u001b[0m\u001b[0mzeros\u001b[0m\u001b[0;34m(\u001b[0m\u001b[0meval_iters\u001b[0m\u001b[0;34m)\u001b[0m\u001b[0;34m.\u001b[0m\u001b[0mcopy\u001b[0m\u001b[0;34m(\u001b[0m\u001b[0;34m)\u001b[0m\u001b[0;34m\u001b[0m\u001b[0;34m\u001b[0m\u001b[0m\n\u001b[0m",
      "\u001b[0;31mAttributeError\u001b[0m: 'Tensor' object has no attribute 'copy'"
     ]
    }
   ],
   "source": [
    "kktorch.zeros(eval_iters).copy()"
   ]
  },
  {
   "cell_type": "code",
   "execution_count": null,
   "metadata": {},
   "outputs": [],
   "source": []
  }
 ],
 "metadata": {
  "kernelspec": {
   "display_name": "Python 3",
   "language": "python",
   "name": "python3"
  },
  "language_info": {
   "codemirror_mode": {
    "name": "ipython",
    "version": 3
   },
   "file_extension": ".py",
   "mimetype": "text/x-python",
   "name": "python",
   "nbconvert_exporter": "python",
   "pygments_lexer": "ipython3",
   "version": "3.10.12"
  }
 },
 "nbformat": 4,
 "nbformat_minor": 2
}
