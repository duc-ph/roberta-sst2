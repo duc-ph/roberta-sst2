{
 "cells": [
  {
   "cell_type": "code",
   "execution_count": 2,
   "metadata": {},
   "outputs": [],
   "source": [
    "# !pip install transformers datasets jupyter notebook"
   ]
  },
  {
   "cell_type": "code",
   "execution_count": 1,
   "metadata": {},
   "outputs": [
    {
     "name": "stderr",
     "output_type": "stream",
     "text": [
      "2025-01-18 08:08:58.311034: I tensorflow/core/util/port.cc:153] oneDNN custom operations are on. You may see slightly different numerical results due to floating-point round-off errors from different computation orders. To turn them off, set the environment variable `TF_ENABLE_ONEDNN_OPTS=0`.\n",
      "2025-01-18 08:08:58.323305: E external/local_xla/xla/stream_executor/cuda/cuda_fft.cc:477] Unable to register cuFFT factory: Attempting to register factory for plugin cuFFT when one has already been registered\n",
      "WARNING: All log messages before absl::InitializeLog() is called are written to STDERR\n",
      "E0000 00:00:1737187738.338438   58681 cuda_dnn.cc:8310] Unable to register cuDNN factory: Attempting to register factory for plugin cuDNN when one has already been registered\n",
      "E0000 00:00:1737187738.343078   58681 cuda_blas.cc:1418] Unable to register cuBLAS factory: Attempting to register factory for plugin cuBLAS when one has already been registered\n",
      "2025-01-18 08:08:58.357938: I tensorflow/core/platform/cpu_feature_guard.cc:210] This TensorFlow binary is optimized to use available CPU instructions in performance-critical operations.\n",
      "To enable the following instructions: AVX512F AVX512_VNNI, in other operations, rebuild TensorFlow with the appropriate compiler flags.\n"
     ]
    }
   ],
   "source": [
    "import torch\n",
    "import torch.nn.functional as F\n",
    "from torch.utils.data import Dataset, DataLoader\n",
    "from torch.optim import Adam\n",
    "from torch.optim.lr_scheduler import StepLR\n",
    "from transformers import RobertaTokenizer, RobertaForSequenceClassification\n",
    "from datasets import load_dataset\n",
    "torch.manual_seed(42)\n",
    "\n",
    "device = torch.device(\"cuda\" if torch.cuda.is_available() else \"cpu\")"
   ]
  },
  {
   "cell_type": "code",
   "execution_count": 2,
   "metadata": {},
   "outputs": [
    {
     "name": "stderr",
     "output_type": "stream",
     "text": [
      "Some weights of RobertaForSequenceClassification were not initialized from the model checkpoint at roberta-base and are newly initialized: ['classifier.dense.bias', 'classifier.dense.weight', 'classifier.out_proj.bias', 'classifier.out_proj.weight']\n",
      "You should probably TRAIN this model on a down-stream task to be able to use it for predictions and inference.\n"
     ]
    },
    {
     "data": {
      "text/plain": [
       "RobertaForSequenceClassification(\n",
       "  (roberta): RobertaModel(\n",
       "    (embeddings): RobertaEmbeddings(\n",
       "      (word_embeddings): Embedding(50265, 768, padding_idx=1)\n",
       "      (position_embeddings): Embedding(514, 768, padding_idx=1)\n",
       "      (token_type_embeddings): Embedding(1, 768)\n",
       "      (LayerNorm): LayerNorm((768,), eps=1e-05, elementwise_affine=True)\n",
       "      (dropout): Dropout(p=0.1, inplace=False)\n",
       "    )\n",
       "    (encoder): RobertaEncoder(\n",
       "      (layer): ModuleList(\n",
       "        (0-11): 12 x RobertaLayer(\n",
       "          (attention): RobertaAttention(\n",
       "            (self): RobertaSdpaSelfAttention(\n",
       "              (query): Linear(in_features=768, out_features=768, bias=True)\n",
       "              (key): Linear(in_features=768, out_features=768, bias=True)\n",
       "              (value): Linear(in_features=768, out_features=768, bias=True)\n",
       "              (dropout): Dropout(p=0.1, inplace=False)\n",
       "            )\n",
       "            (output): RobertaSelfOutput(\n",
       "              (dense): Linear(in_features=768, out_features=768, bias=True)\n",
       "              (LayerNorm): LayerNorm((768,), eps=1e-05, elementwise_affine=True)\n",
       "              (dropout): Dropout(p=0.1, inplace=False)\n",
       "            )\n",
       "          )\n",
       "          (intermediate): RobertaIntermediate(\n",
       "            (dense): Linear(in_features=768, out_features=3072, bias=True)\n",
       "            (intermediate_act_fn): GELUActivation()\n",
       "          )\n",
       "          (output): RobertaOutput(\n",
       "            (dense): Linear(in_features=3072, out_features=768, bias=True)\n",
       "            (LayerNorm): LayerNorm((768,), eps=1e-05, elementwise_affine=True)\n",
       "            (dropout): Dropout(p=0.1, inplace=False)\n",
       "          )\n",
       "        )\n",
       "      )\n",
       "    )\n",
       "  )\n",
       "  (classifier): RobertaClassificationHead(\n",
       "    (dense): Linear(in_features=768, out_features=768, bias=True)\n",
       "    (dropout): Dropout(p=0.1, inplace=False)\n",
       "    (out_proj): Linear(in_features=768, out_features=2, bias=True)\n",
       "  )\n",
       ")"
      ]
     },
     "execution_count": 2,
     "metadata": {},
     "output_type": "execute_result"
    }
   ],
   "source": [
    "tokenizer = RobertaTokenizer.from_pretrained(\"roberta-base\")\n",
    "model = RobertaForSequenceClassification.from_pretrained(\"roberta-base\", num_labels=2)  # For binary classification\n",
    "model.to(device)"
   ]
  },
  {
   "cell_type": "markdown",
   "metadata": {},
   "source": [
    "### Tokenize the dataset"
   ]
  },
  {
   "cell_type": "code",
   "execution_count": 3,
   "metadata": {},
   "outputs": [],
   "source": [
    "dataset = load_dataset(\"glue\", \"sst2\")\n",
    "\n",
    "train_data = dataset[\"train\"]\n",
    "validation_data = dataset[\"validation\"]\n",
    "test_data = dataset[\"test\"]"
   ]
  },
  {
   "cell_type": "code",
   "execution_count": 4,
   "metadata": {},
   "outputs": [
    {
     "data": {
      "text/plain": [
       "{'sentence': 'hide new secretions from the parental units ',\n",
       " 'label': 0,\n",
       " 'idx': 0}"
      ]
     },
     "execution_count": 4,
     "metadata": {},
     "output_type": "execute_result"
    }
   ],
   "source": [
    "train_data[0]"
   ]
  },
  {
   "cell_type": "code",
   "execution_count": 5,
   "metadata": {},
   "outputs": [],
   "source": [
    "X_train, X_val, X_test, y_train, y_val, y_test = [[] for _ in range(6)]\n",
    "for split, xb, yb in zip([train_data, validation_data, test_data], [X_train, X_val, X_test], [y_train, y_val, y_test]):\n",
    "    for observation in split:\n",
    "        sentence, label, _ = observation.values()\n",
    "        xb.append(sentence)\n",
    "        yb.append(label)\n",
    "    \n",
    "    xb = tokenizer(xb, return_tensors='pt', padding=True, truncation=True, max_length=512).to(device)"
   ]
  },
  {
   "cell_type": "code",
   "execution_count": 6,
   "metadata": {},
   "outputs": [],
   "source": [
    "X_train = tokenizer(X_train, return_tensors='pt', padding=True, truncation=True, max_length=512).to(device)\n",
    "X_val = tokenizer(X_val, return_tensors='pt', padding=True, truncation=True, max_length=512).to(device)\n",
    "X_test = tokenizer(X_test, return_tensors='pt', padding=True, truncation=True, max_length=512).to(device)"
   ]
  },
  {
   "cell_type": "code",
   "execution_count": 7,
   "metadata": {},
   "outputs": [],
   "source": [
    "class SST2Dataset(Dataset):\n",
    "    def __init__(self, X, y):\n",
    "        self.X = X\n",
    "        self.y = y\n",
    "    \n",
    "    def __len__(self):\n",
    "        return len(self.y)\n",
    "\n",
    "    def __getitem__(self, idx):\n",
    "        x = {\n",
    "            'input_ids': self.X['input_ids'][idx, :].to(device),\n",
    "            'attention_mask': self.X['attention_mask'][idx, :].to(device)\n",
    "        }\n",
    "        label = self.y[idx]\n",
    "        y = torch.Tensor([1.0, 0.0]) if label == 0 else torch.Tensor([0.0, 1.0])\n",
    "        y = y.to(device)\n",
    "        return x, y"
   ]
  },
  {
   "cell_type": "code",
   "execution_count": 8,
   "metadata": {},
   "outputs": [],
   "source": [
    "batch_size = 64\n",
    "num_epochs = 3"
   ]
  },
  {
   "cell_type": "code",
   "execution_count": 9,
   "metadata": {},
   "outputs": [],
   "source": [
    "train_dataset = SST2Dataset(X_train, y_train)\n",
    "train_dataloader = DataLoader(train_dataset, batch_size=batch_size, shuffle=True)\n",
    "\n",
    "val_dataset = SST2Dataset(X_val, y_val)\n",
    "val_dataloader = DataLoader(val_dataset, batch_size=batch_size)"
   ]
  },
  {
   "cell_type": "markdown",
   "metadata": {},
   "source": [
    "### Get accuracy before fine-tuning."
   ]
  },
  {
   "cell_type": "code",
   "execution_count": 10,
   "metadata": {},
   "outputs": [
    {
     "name": "stdout",
     "output_type": "stream",
     "text": [
      "tensor(0.4911)\n"
     ]
    }
   ],
   "source": [
    "accuracies = []\n",
    "\n",
    "model.eval()\n",
    "with torch.no_grad():\n",
    "    for batch_idx, (x, y) in enumerate(val_dataloader):\n",
    "        logits = model(**x).logits\n",
    "        softmax = F.softmax(logits, dim=1)\n",
    "        y_preds = torch.argmax(softmax, dim=1)\n",
    "        y = torch.Tensor([x[1] for x in y]).to(device)\n",
    "        accuracy = (torch.sum(y_preds == y)/len(y)).item()\n",
    "        accuracies.append(accuracy)\n",
    "\n",
    "print(torch.mean(torch.Tensor(accuracies)))\n"
   ]
  },
  {
   "cell_type": "code",
   "execution_count": 11,
   "metadata": {},
   "outputs": [
    {
     "name": "stdout",
     "output_type": "stream",
     "text": [
      "Epoch [1/3], Step [1/1053], Loss: 0.7029\n",
      "Epoch [1/3], Step [101/1053], Loss: 0.6773\n",
      "Epoch [1/3], Step [201/1053], Loss: 0.6941\n",
      "Epoch [1/3], Step [301/1053], Loss: 0.3288\n",
      "Epoch [1/3], Step [401/1053], Loss: 0.3073\n",
      "Epoch [1/3], Step [501/1053], Loss: 0.3440\n",
      "Epoch [1/3], Step [601/1053], Loss: 0.2898\n",
      "Epoch [1/3], Step [701/1053], Loss: 0.2431\n",
      "Epoch [1/3], Step [801/1053], Loss: 0.2257\n",
      "Epoch [1/3], Step [901/1053], Loss: 0.2344\n",
      "Epoch [1/3], Step [1001/1053], Loss: 0.1962\n",
      "Epoch [1/3] summary\n",
      "    Train loss: 0.3540\n",
      "    Validation loss: 0.1980\n",
      "    Accuracy: 0.9321\n",
      "========================================\n",
      "Epoch [2/3], Step [1/1053], Loss: 0.2045\n",
      "Epoch [2/3], Step [101/1053], Loss: 0.0452\n",
      "Epoch [2/3], Step [201/1053], Loss: 0.2648\n",
      "Epoch [2/3], Step [301/1053], Loss: 0.0856\n",
      "Epoch [2/3], Step [401/1053], Loss: 0.2022\n",
      "Epoch [2/3], Step [501/1053], Loss: 0.1861\n",
      "Epoch [2/3], Step [601/1053], Loss: 0.1506\n",
      "Epoch [2/3], Step [701/1053], Loss: 0.2417\n",
      "Epoch [2/3], Step [801/1053], Loss: 0.2545\n",
      "Epoch [2/3], Step [901/1053], Loss: 0.1723\n",
      "Epoch [2/3], Step [1001/1053], Loss: 0.2846\n",
      "Epoch [2/3] summary\n",
      "    Train loss: 0.1899\n",
      "    Validation loss: 0.1990\n",
      "    Accuracy: 0.9277\n",
      "========================================\n",
      "Epoch [3/3], Step [1/1053], Loss: 0.2056\n",
      "Epoch [3/3], Step [101/1053], Loss: 0.1649\n",
      "Epoch [3/3], Step [201/1053], Loss: 0.1314\n",
      "Epoch [3/3], Step [301/1053], Loss: 0.1333\n",
      "Epoch [3/3], Step [401/1053], Loss: 0.2126\n",
      "Epoch [3/3], Step [501/1053], Loss: 0.1287\n",
      "Epoch [3/3], Step [601/1053], Loss: 0.1822\n",
      "Epoch [3/3], Step [701/1053], Loss: 0.1675\n",
      "Epoch [3/3], Step [801/1053], Loss: 0.1431\n",
      "Epoch [3/3], Step [901/1053], Loss: 0.2559\n",
      "Epoch [3/3], Step [1001/1053], Loss: 0.1968\n",
      "Epoch [3/3] summary\n",
      "    Train loss: 0.1712\n",
      "    Validation loss: 0.2005\n",
      "    Accuracy: 0.9259\n",
      "========================================\n"
     ]
    }
   ],
   "source": [
    "optimizer = Adam(\n",
    "    params=model.parameters(),\n",
    "    lr=5e-6,\n",
    "    betas=(0.9, 0.999),\n",
    "    weight_decay=0.01,\n",
    ")\n",
    "\n",
    "scheduler = StepLR(optimizer, step_size=1, gamma=0.5)\n",
    "\n",
    "for epoch in range(num_epochs):\n",
    "    model.train()\n",
    "    train_loss = 0\n",
    "\n",
    "    for batch_idx, (x, y) in enumerate(train_dataloader):\n",
    "\n",
    "        # forward\n",
    "        logits = model(**x).logits\n",
    "        loss = F.cross_entropy(logits, y)\n",
    "\n",
    "        # backprop\n",
    "        loss.backward()\n",
    "        optimizer.step()\n",
    "        optimizer.zero_grad()\n",
    "        \n",
    "\n",
    "        train_loss += loss.item()\n",
    "\n",
    "        if batch_idx % 100 == 0:\n",
    "            print(f\"Epoch [{epoch+1}/{num_epochs}], Step [{batch_idx+1}/{len(train_dataloader)}], Loss: {loss.item():.4f}\")\n",
    "    \n",
    "    train_loss /= len(train_dataloader)\n",
    "    scheduler.step()\n",
    "    \n",
    "\n",
    "    # Get validation loss and accuracy\n",
    "    val_accuracy = 0\n",
    "    val_loss = 0\n",
    "\n",
    "    model.eval()\n",
    "    with torch.no_grad():\n",
    "        for batch_idx, (x, y) in enumerate(val_dataloader):\n",
    "            logits = model(**x).logits\n",
    "            softmax = F.softmax(logits, dim=1)\n",
    "            loss = F.cross_entropy(logits, y)\n",
    "            y_preds = torch.argmax(softmax, dim=1)\n",
    "            y = torch.Tensor([x[1] for x in y]).to(device)\n",
    "\n",
    "            accuracy = (torch.sum(y_preds == y)/len(y)).item()\n",
    "            val_accuracy += accuracy\n",
    "            val_loss += loss.item()\n",
    "    \n",
    "    val_accuracy /= len(val_dataloader)\n",
    "    val_loss /= len(val_dataloader)\n",
    "\n",
    "    print(f\"Epoch [{epoch+1}/{num_epochs}] summary\")\n",
    "    print(f'    Train loss: {train_loss:.4f}')\n",
    "    print(f'    Validation loss: {val_loss:.4f}')\n",
    "    print(f'    Accuracy: {val_accuracy:.4f}')\n",
    "    print('========================================')"
   ]
  },
  {
   "cell_type": "code",
   "execution_count": null,
   "metadata": {},
   "outputs": [],
   "source": [
    "[\n",
    "    {\n",
    "        'learning_rate': 2e-5,\n",
    "        'batch_size': 64,\n",
    "        'train_losses': [0.2679, 0.2083, 0.2443],\n",
    "        'val_losses': [0.2092, 0.2720, 0.3516],\n",
    "        'val_accuracy': [0.9292, 0.8882, 0.8520]\n",
    "    },\n",
    "\n",
    "    # unstable loss even in first epoch => decrease learning rate\n",
    "    {\n",
    "        'learning_rate': 5e-6,\n",
    "        'batch_size': 64,\n",
    "        'train_losses': [0.3540, 0.1906, 0.1685],\n",
    "        'val_losses': [0.1980, 0.1990, 0.2054],\n",
    "        'val_accuracy': [0.9321, 0.9292, 0.9270]\n",
    "    }\n",
    "    \n",
    "    # observe that loss fluctuates more in epoch 2 => implemented step learning rate, hopefully there will be gain in epochs 2 and 3\n",
    "   {\n",
    "        'initial learning_rate': 5e-6,\n",
    "        'stepLR gamma': 0.5, # decrease LR by half after each epoch\n",
    "        'batch_size': 64,\n",
    "        'train_losses': [0.3540, 0.1899, 0.1712],\n",
    "        'val_losses': [0.1980, 0.1990, 0.2005],\n",
    "        'val_accuracy': [0.9321, 0.9277, 0.9259]\n",
    "    } \n",
    "\n",
    "    # there is not much difference in the metrics of epoch 2 and 3. I will further decrease gamma.\n",
    "]"
   ]
  }
 ],
 "metadata": {
  "kernelspec": {
   "display_name": "Python 3",
   "language": "python",
   "name": "python3"
  },
  "language_info": {
   "codemirror_mode": {
    "name": "ipython",
    "version": 3
   },
   "file_extension": ".py",
   "mimetype": "text/x-python",
   "name": "python",
   "nbconvert_exporter": "python",
   "pygments_lexer": "ipython3",
   "version": "3.10.12"
  }
 },
 "nbformat": 4,
 "nbformat_minor": 2
}
