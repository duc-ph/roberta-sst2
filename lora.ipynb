{
 "cells": [
  {
   "cell_type": "code",
   "execution_count": 1,
   "metadata": {},
   "outputs": [
    {
     "name": "stderr",
     "output_type": "stream",
     "text": [
      "2025-01-19 10:21:36.868813: I tensorflow/core/util/port.cc:153] oneDNN custom operations are on. You may see slightly different numerical results due to floating-point round-off errors from different computation orders. To turn them off, set the environment variable `TF_ENABLE_ONEDNN_OPTS=0`.\n",
      "2025-01-19 10:21:36.883868: E external/local_xla/xla/stream_executor/cuda/cuda_fft.cc:477] Unable to register cuFFT factory: Attempting to register factory for plugin cuFFT when one has already been registered\n",
      "WARNING: All log messages before absl::InitializeLog() is called are written to STDERR\n",
      "E0000 00:00:1737282096.901575  145957 cuda_dnn.cc:8310] Unable to register cuDNN factory: Attempting to register factory for plugin cuDNN when one has already been registered\n",
      "E0000 00:00:1737282096.908641  145957 cuda_blas.cc:1418] Unable to register cuBLAS factory: Attempting to register factory for plugin cuBLAS when one has already been registered\n",
      "2025-01-19 10:21:36.929185: I tensorflow/core/platform/cpu_feature_guard.cc:210] This TensorFlow binary is optimized to use available CPU instructions in performance-critical operations.\n",
      "To enable the following instructions: AVX512F AVX512_VNNI, in other operations, rebuild TensorFlow with the appropriate compiler flags.\n"
     ]
    }
   ],
   "source": [
    "from transformers import RobertaForSequenceClassification, RobertaTokenizer\n",
    "from lora_modules import LoRARobertaSdpaSelfAttention\n",
    "from torch.nn.parameter import Parameter\n",
    "import torch\n",
    "from torch.utils.data import DataLoader\n",
    "import torch.nn.functional as F\n",
    "from torch.optim import AdamW\n",
    "from torch.optim.lr_scheduler import LinearLR, SequentialLR\n",
    "from utils import get_loss_and_accuracy, SST2Dataset\n",
    "device = torch.device(\"cuda\" if torch.cuda.is_available() else \"cpu\")\n"
   ]
  },
  {
   "cell_type": "code",
   "execution_count": null,
   "metadata": {},
   "outputs": [
    {
     "name": "stderr",
     "output_type": "stream",
     "text": [
      "Some weights of RobertaForSequenceClassification were not initialized from the model checkpoint at roberta-base and are newly initialized: ['classifier.dense.bias', 'classifier.dense.weight', 'classifier.out_proj.bias', 'classifier.out_proj.weight']\n",
      "You should probably TRAIN this model on a down-stream task to be able to use it for predictions and inference.\n"
     ]
    }
   ],
   "source": [
    "tokenizer = RobertaTokenizer.from_pretrained('roberta-base')\n",
    "torch.manual_seed(42)\n",
    "model = RobertaForSequenceClassification.from_pretrained('roberta-base')\n",
    "torch.manual_seed(42)\n",
    "model_original = RobertaForSequenceClassification.from_pretrained('roberta-base')\n",
    "\n",
    "model.to(device)\n",
    "model.config.lora_rank = 8\n",
    "model.config.lora_alpha = 8\n",
    "\n",
    "model_original.to(device)\n",
    "model_original.config.lora_rank = 8\n",
    "model_original.config.lora_alpha = 8"
   ]
  },
  {
   "cell_type": "code",
   "execution_count": 3,
   "metadata": {},
   "outputs": [
    {
     "data": {
      "text/plain": [
       "RobertaForSequenceClassification(\n",
       "  (roberta): RobertaModel(\n",
       "    (embeddings): RobertaEmbeddings(\n",
       "      (word_embeddings): Embedding(50265, 768, padding_idx=1)\n",
       "      (position_embeddings): Embedding(514, 768, padding_idx=1)\n",
       "      (token_type_embeddings): Embedding(1, 768)\n",
       "      (LayerNorm): LayerNorm((768,), eps=1e-05, elementwise_affine=True)\n",
       "      (dropout): Dropout(p=0.1, inplace=False)\n",
       "    )\n",
       "    (encoder): RobertaEncoder(\n",
       "      (layer): ModuleList(\n",
       "        (0-11): 12 x RobertaLayer(\n",
       "          (attention): RobertaAttention(\n",
       "            (self): RobertaSdpaSelfAttention(\n",
       "              (query): Linear(in_features=768, out_features=768, bias=True)\n",
       "              (key): Linear(in_features=768, out_features=768, bias=True)\n",
       "              (value): Linear(in_features=768, out_features=768, bias=True)\n",
       "              (dropout): Dropout(p=0.1, inplace=False)\n",
       "            )\n",
       "            (output): RobertaSelfOutput(\n",
       "              (dense): Linear(in_features=768, out_features=768, bias=True)\n",
       "              (LayerNorm): LayerNorm((768,), eps=1e-05, elementwise_affine=True)\n",
       "              (dropout): Dropout(p=0.1, inplace=False)\n",
       "            )\n",
       "          )\n",
       "          (intermediate): RobertaIntermediate(\n",
       "            (dense): Linear(in_features=768, out_features=3072, bias=True)\n",
       "            (intermediate_act_fn): GELUActivation()\n",
       "          )\n",
       "          (output): RobertaOutput(\n",
       "            (dense): Linear(in_features=3072, out_features=768, bias=True)\n",
       "            (LayerNorm): LayerNorm((768,), eps=1e-05, elementwise_affine=True)\n",
       "            (dropout): Dropout(p=0.1, inplace=False)\n",
       "          )\n",
       "        )\n",
       "      )\n",
       "    )\n",
       "  )\n",
       "  (classifier): RobertaClassificationHead(\n",
       "    (dense): Linear(in_features=768, out_features=768, bias=True)\n",
       "    (dropout): Dropout(p=0.1, inplace=False)\n",
       "    (out_proj): Linear(in_features=768, out_features=2, bias=True)\n",
       "  )\n",
       ")"
      ]
     },
     "execution_count": 3,
     "metadata": {},
     "output_type": "execute_result"
    }
   ],
   "source": [
    "model_original"
   ]
  },
  {
   "cell_type": "markdown",
   "metadata": {},
   "source": [
    "### Plugging in the custom LoRA attention module"
   ]
  },
  {
   "cell_type": "code",
   "execution_count": 4,
   "metadata": {},
   "outputs": [
    {
     "data": {
      "text/plain": [
       "CustomRobertaSdpaSelfAttention(\n",
       "  (query): LoRALinear(in_features=768, out_features=768, bias=True)\n",
       "  (key): Linear(in_features=768, out_features=768, bias=True)\n",
       "  (value): LoRALinear(in_features=768, out_features=768, bias=True)\n",
       "  (dropout): Dropout(p=0.1, inplace=False)\n",
       ")"
      ]
     },
     "execution_count": 4,
     "metadata": {},
     "output_type": "execute_result"
    }
   ],
   "source": [
    "LoRARobertaSdpaSelfAttention(model_original.config)"
   ]
  },
  {
   "cell_type": "code",
   "execution_count": 3,
   "metadata": {},
   "outputs": [],
   "source": [
    "for idx in range(len(model.roberta.encoder.layer)):\n",
    "    lora_attention = LoRARobertaSdpaSelfAttention(model.config).to(device)\n",
    "\n",
    "    # update query layer\n",
    "    lora_attention.query.weight = Parameter(torch.clone(model.roberta.encoder.layer[idx].attention.self.query.weight))\n",
    "    lora_attention.query.bias = Parameter(torch.clone(model.roberta.encoder.layer[idx].attention.self.query.bias))\n",
    "\n",
    "    # update key layer\n",
    "    lora_attention.key.weight = Parameter(torch.clone(model.roberta.encoder.layer[idx].attention.self.key.weight))\n",
    "    lora_attention.key.bias = Parameter(torch.clone(model.roberta.encoder.layer[idx].attention.self.key.bias))\n",
    "\n",
    "    # update value layer\n",
    "    lora_attention.value.weight = Parameter(torch.clone(model.roberta.encoder.layer[idx].attention.self.value.weight))\n",
    "    lora_attention.value.bias = Parameter(torch.clone(model.roberta.encoder.layer[idx].attention.self.value.bias))\n",
    " \n",
    "    model.roberta.encoder.layer[idx].attention.self = lora_attention"
   ]
  },
  {
   "cell_type": "markdown",
   "metadata": {},
   "source": [
    "### Sanity check\n",
    "\n",
    "We want the result from the original model and the LoRA model to be the same"
   ]
  },
  {
   "cell_type": "code",
   "execution_count": 4,
   "metadata": {},
   "outputs": [
    {
     "name": "stderr",
     "output_type": "stream",
     "text": [
      "/tmp/ipykernel_145957/778549105.py:1: FutureWarning: You are using `torch.load` with `weights_only=False` (the current default value), which uses the default pickle module implicitly. It is possible to construct malicious pickle data which will execute arbitrary code during unpickling (See https://github.com/pytorch/pytorch/blob/main/SECURITY.md#untrusted-models for more details). In a future release, the default value for `weights_only` will be flipped to `True`. This limits the functions that could be executed during unpickling. Arbitrary objects will no longer be allowed to be loaded via this mode unless they are explicitly allowlisted by the user via `torch.serialization.add_safe_globals`. We recommend you start setting `weights_only=True` for any use case where you don't have full control of the loaded file. Please open an issue on GitHub for any issues related to this experimental feature.\n",
      "  train_dataset = torch.load('./datasets/train_dataset.pth')\n",
      "/tmp/ipykernel_145957/778549105.py:2: FutureWarning: You are using `torch.load` with `weights_only=False` (the current default value), which uses the default pickle module implicitly. It is possible to construct malicious pickle data which will execute arbitrary code during unpickling (See https://github.com/pytorch/pytorch/blob/main/SECURITY.md#untrusted-models for more details). In a future release, the default value for `weights_only` will be flipped to `True`. This limits the functions that could be executed during unpickling. Arbitrary objects will no longer be allowed to be loaded via this mode unless they are explicitly allowlisted by the user via `torch.serialization.add_safe_globals`. We recommend you start setting `weights_only=True` for any use case where you don't have full control of the loaded file. Please open an issue on GitHub for any issues related to this experimental feature.\n",
      "  val_dataset = torch.load('./datasets/val_dataset.pth')\n"
     ]
    }
   ],
   "source": [
    "train_dataset = torch.load('./datasets/train_dataset.pth')\n",
    "val_dataset = torch.load('./datasets/val_dataset.pth')"
   ]
  },
  {
   "cell_type": "code",
   "execution_count": 7,
   "metadata": {},
   "outputs": [
    {
     "data": {
      "text/plain": [
       "(0.7031794318131038, 0.49107142857142855)"
      ]
     },
     "execution_count": 7,
     "metadata": {},
     "output_type": "execute_result"
    }
   ],
   "source": [
    "get_loss_and_accuracy(model=model_original, dataset=val_dataset, device=device, shuffle=False)"
   ]
  },
  {
   "cell_type": "code",
   "execution_count": 8,
   "metadata": {},
   "outputs": [
    {
     "data": {
      "text/plain": [
       "(0.7031794318131038, 0.49107142857142855)"
      ]
     },
     "execution_count": 8,
     "metadata": {},
     "output_type": "execute_result"
    }
   ],
   "source": [
    "get_loss_and_accuracy(model=model, dataset=val_dataset, device=device, shuffle=False)"
   ]
  },
  {
   "cell_type": "markdown",
   "metadata": {},
   "source": [
    "The figures are equal. Very nice!"
   ]
  },
  {
   "cell_type": "markdown",
   "metadata": {},
   "source": [
    "### Training LoRA model\n",
    "\n",
    "We only train the LoRA parameters, so we are freezing all the params and then unfreeze the LoRA ones."
   ]
  },
  {
   "cell_type": "code",
   "execution_count": 5,
   "metadata": {},
   "outputs": [],
   "source": [
    "for param in model.parameters():\n",
    "    param.requires_grad = False\n",
    "\n",
    "for name, param in model.named_parameters():\n",
    "    if \"lora_A\" in name or \"lora_B\" in name:\n",
    "        param.requires_grad = True"
   ]
  },
  {
   "cell_type": "code",
   "execution_count": 6,
   "metadata": {},
   "outputs": [
    {
     "name": "stdout",
     "output_type": "stream",
     "text": [
      "Trainable parameter count:\n"
     ]
    },
    {
     "ename": "NameError",
     "evalue": "name 'model_original' is not defined",
     "output_type": "error",
     "traceback": [
      "\u001b[0;31m---------------------------------------------------------------------------\u001b[0m",
      "\u001b[0;31mNameError\u001b[0m                                 Traceback (most recent call last)",
      "\u001b[0;32m/tmp/ipykernel_145957/1505668257.py\u001b[0m in \u001b[0;36m<module>\u001b[0;34m\u001b[0m\n\u001b[1;32m      1\u001b[0m \u001b[0mprint\u001b[0m\u001b[0;34m(\u001b[0m\u001b[0;34m\"Trainable parameter count:\"\u001b[0m\u001b[0;34m)\u001b[0m\u001b[0;34m\u001b[0m\u001b[0;34m\u001b[0m\u001b[0m\n\u001b[0;32m----> 2\u001b[0;31m \u001b[0mprint\u001b[0m\u001b[0;34m(\u001b[0m\u001b[0;34mf\"Original model: {sum(p.numel() for p in model_original.parameters() if p.requires_grad):,}\"\u001b[0m\u001b[0;34m)\u001b[0m\u001b[0;34m\u001b[0m\u001b[0;34m\u001b[0m\u001b[0m\n\u001b[0m\u001b[1;32m      3\u001b[0m \u001b[0mprint\u001b[0m\u001b[0;34m(\u001b[0m\u001b[0;34mf\"LoRA model: {sum(p.numel() for p in model.parameters() if p.requires_grad):,}\"\u001b[0m\u001b[0;34m)\u001b[0m\u001b[0;34m\u001b[0m\u001b[0;34m\u001b[0m\u001b[0m\n",
      "\u001b[0;31mNameError\u001b[0m: name 'model_original' is not defined"
     ]
    }
   ],
   "source": [
    "print(\"Trainable parameter count:\")\n",
    "print(f\"Original model: {sum(p.numel() for p in model_original.parameters() if p.requires_grad):,}\")\n",
    "print(f\"LoRA model: {sum(p.numel() for p in model.parameters() if p.requires_grad):,}\")"
   ]
  },
  {
   "cell_type": "markdown",
   "metadata": {},
   "source": [
    "We have ~0.3M trainable parameters, which matches the figure mentioned in the paper."
   ]
  },
  {
   "cell_type": "code",
   "execution_count": null,
   "metadata": {},
   "outputs": [
    {
     "name": "stdout",
     "output_type": "stream",
     "text": [
      "========= RUN PARAMETERS: ===============\n",
      "Learning rate: 5.0e-04, batch size: 16\n",
      "Epoch [1/60], Step [1/4210], Loss: 0.6983, LR: 2.5e-05\n",
      "Epoch [1/60], Step [201/4210], Loss: 0.7243, LR: 3.1e-05\n",
      "Epoch [1/60], Step [401/4210], Loss: 0.6903, LR: 3.8e-05\n",
      "Epoch [1/60], Step [601/4210], Loss: 0.6011, LR: 4.4e-05\n",
      "Epoch [1/60], Step [801/4210], Loss: 0.4438, LR: 5.0e-05\n",
      "Epoch [1/60], Step [1001/4210], Loss: 0.2743, LR: 5.6e-05\n",
      "Epoch [1/60], Step [1201/4210], Loss: 0.1618, LR: 6.3e-05\n",
      "Epoch [1/60], Step [1401/4210], Loss: 0.2986, LR: 6.9e-05\n",
      "Epoch [1/60], Step [1601/4210], Loss: 0.3885, LR: 7.5e-05\n",
      "Epoch [1/60], Step [1801/4210], Loss: 0.3012, LR: 8.1e-05\n",
      "Epoch [1/60], Step [2001/4210], Loss: 0.1849, LR: 8.8e-05\n",
      "Epoch [1/60], Step [2201/4210], Loss: 0.0700, LR: 9.4e-05\n",
      "Epoch [1/60], Step [2401/4210], Loss: 0.3770, LR: 1.0e-04\n",
      "Epoch [1/60], Step [2601/4210], Loss: 0.0838, LR: 1.1e-04\n",
      "Epoch [1/60], Step [2801/4210], Loss: 0.8829, LR: 1.1e-04\n",
      "Epoch [1/60], Step [3001/4210], Loss: 0.1688, LR: 1.2e-04\n",
      "Epoch [1/60], Step [3201/4210], Loss: 0.1732, LR: 1.3e-04\n",
      "Epoch [1/60], Step [3401/4210], Loss: 0.1014, LR: 1.3e-04\n",
      "Epoch [1/60], Step [3601/4210], Loss: 0.3060, LR: 1.4e-04\n",
      "Epoch [1/60], Step [3801/4210], Loss: 0.1784, LR: 1.4e-04\n",
      "Epoch [1/60], Step [4001/4210], Loss: 0.2712, LR: 1.5e-04\n",
      "Epoch [1/60], Step [4201/4210], Loss: 0.1834, LR: 1.6e-04\n",
      "Epoch [1/60] summary\n",
      "    Train loss: 0.0194\n",
      "    Validation loss: 0.2249\n",
      "    Accuracy: 0.9219\n",
      "========================================\n",
      "Epoch [2/60], Step [1/4210], Loss: 0.2397, LR: 1.6e-04\n",
      "Epoch [2/60], Step [201/4210], Loss: 0.1300, LR: 1.6e-04\n",
      "Epoch [2/60], Step [401/4210], Loss: 0.0970, LR: 1.7e-04\n",
      "Epoch [2/60], Step [601/4210], Loss: 0.2307, LR: 1.8e-04\n",
      "Epoch [2/60], Step [801/4210], Loss: 0.6086, LR: 1.8e-04\n",
      "Epoch [2/60], Step [1001/4210], Loss: 0.1484, LR: 1.9e-04\n",
      "Epoch [2/60], Step [1201/4210], Loss: 0.2925, LR: 1.9e-04\n",
      "Epoch [2/60], Step [1401/4210], Loss: 0.3686, LR: 2.0e-04\n",
      "Epoch [2/60], Step [1601/4210], Loss: 0.3005, LR: 2.1e-04\n",
      "Epoch [2/60], Step [1801/4210], Loss: 0.3027, LR: 2.1e-04\n",
      "Epoch [2/60], Step [2001/4210], Loss: 0.2878, LR: 2.2e-04\n",
      "Epoch [2/60], Step [2201/4210], Loss: 0.3645, LR: 2.3e-04\n",
      "Epoch [2/60], Step [2401/4210], Loss: 0.0995, LR: 2.3e-04\n",
      "Epoch [2/60], Step [2601/4210], Loss: 0.3381, LR: 2.4e-04\n",
      "Epoch [2/60], Step [2801/4210], Loss: 0.1639, LR: 2.4e-04\n",
      "Epoch [2/60], Step [3001/4210], Loss: 0.3273, LR: 2.5e-04\n",
      "Epoch [2/60], Step [3201/4210], Loss: 0.2409, LR: 2.6e-04\n",
      "Epoch [2/60], Step [3401/4210], Loss: 0.1708, LR: 2.6e-04\n",
      "Epoch [2/60], Step [3601/4210], Loss: 0.1190, LR: 2.7e-04\n",
      "Epoch [2/60], Step [3801/4210], Loss: 0.0700, LR: 2.8e-04\n",
      "Epoch [2/60], Step [4001/4210], Loss: 0.2341, LR: 2.8e-04\n",
      "Epoch [2/60], Step [4201/4210], Loss: 0.1587, LR: 2.9e-04\n",
      "Epoch [2/60] summary\n",
      "    Train loss: 0.0171\n",
      "    Validation loss: 0.2119\n",
      "    Accuracy: 0.9263\n",
      "========================================\n",
      "Epoch [3/60], Step [1/4210], Loss: 0.0625, LR: 2.9e-04\n",
      "Epoch [3/60], Step [201/4210], Loss: 0.7358, LR: 3.0e-04\n",
      "Epoch [3/60], Step [401/4210], Loss: 0.4419, LR: 3.0e-04\n",
      "Epoch [3/60], Step [601/4210], Loss: 0.0898, LR: 3.1e-04\n",
      "Epoch [3/60], Step [801/4210], Loss: 0.2111, LR: 3.1e-04\n",
      "Epoch [3/60], Step [1001/4210], Loss: 0.1621, LR: 3.2e-04\n",
      "Epoch [3/60], Step [1201/4210], Loss: 0.1107, LR: 3.3e-04\n",
      "Epoch [3/60], Step [1401/4210], Loss: 0.0484, LR: 3.3e-04\n",
      "Epoch [3/60], Step [1601/4210], Loss: 0.1063, LR: 3.4e-04\n",
      "Epoch [3/60], Step [1801/4210], Loss: 0.1557, LR: 3.5e-04\n",
      "Epoch [3/60], Step [2001/4210], Loss: 0.0573, LR: 3.5e-04\n",
      "Epoch [3/60], Step [2201/4210], Loss: 0.2811, LR: 3.6e-04\n",
      "Epoch [3/60], Step [2401/4210], Loss: 0.0701, LR: 3.6e-04\n",
      "Epoch [3/60], Step [2601/4210], Loss: 0.1461, LR: 3.7e-04\n",
      "Epoch [3/60], Step [2801/4210], Loss: 0.2670, LR: 3.8e-04\n",
      "Epoch [3/60], Step [3001/4210], Loss: 0.2478, LR: 3.8e-04\n",
      "Epoch [3/60], Step [3201/4210], Loss: 0.2836, LR: 3.9e-04\n",
      "Epoch [3/60], Step [3401/4210], Loss: 0.2191, LR: 4.0e-04\n",
      "Epoch [3/60], Step [3601/4210], Loss: 0.2877, LR: 4.0e-04\n",
      "Epoch [3/60], Step [3801/4210], Loss: 0.2959, LR: 4.1e-04\n",
      "Epoch [3/60], Step [4001/4210], Loss: 0.1943, LR: 4.1e-04\n",
      "Epoch [3/60], Step [4201/4210], Loss: 0.0388, LR: 4.2e-04\n",
      "Epoch [3/60] summary\n",
      "    Train loss: 0.0159\n",
      "    Validation loss: 0.1932\n",
      "    Accuracy: 0.9230\n",
      "========================================\n",
      "Epoch [4/60], Step [1/4210], Loss: 0.5223, LR: 4.2e-04\n",
      "Epoch [4/60], Step [201/4210], Loss: 0.0653, LR: 4.3e-04\n",
      "Epoch [4/60], Step [401/4210], Loss: 0.2574, LR: 4.3e-04\n",
      "Epoch [4/60], Step [601/4210], Loss: 0.2783, LR: 4.4e-04\n",
      "Epoch [4/60], Step [801/4210], Loss: 0.0459, LR: 4.5e-04\n",
      "Epoch [4/60], Step [1001/4210], Loss: 0.5903, LR: 4.5e-04\n",
      "Epoch [4/60], Step [1201/4210], Loss: 0.2646, LR: 4.6e-04\n",
      "Epoch [4/60], Step [1401/4210], Loss: 0.4285, LR: 4.6e-04\n",
      "Epoch [4/60], Step [1601/4210], Loss: 0.4394, LR: 4.7e-04\n",
      "Epoch [4/60], Step [1801/4210], Loss: 0.1666, LR: 4.8e-04\n",
      "Epoch [4/60], Step [2001/4210], Loss: 0.0837, LR: 4.8e-04\n",
      "Epoch [4/60], Step [2201/4210], Loss: 0.1189, LR: 4.9e-04\n",
      "Epoch [4/60], Step [2401/4210], Loss: 0.3780, LR: 5.0e-04\n"
     ]
    },
    {
     "name": "stderr",
     "output_type": "stream",
     "text": [
      "/usr/lib/python3/dist-packages/torch/optim/lr_scheduler.py:240: UserWarning: The epoch parameter in `scheduler.step()` was not necessary and is being deprecated where possible. Please use `scheduler.step()` to step the scheduler. During the deprecation, if epoch is different from None, the closed form is used instead of the new chainable form, where available. Please open an issue if you are unable to replicate your use case: https://github.com/pytorch/pytorch/issues/new/choose.\n",
      "  warnings.warn(EPOCH_DEPRECATION_WARNING, UserWarning)\n"
     ]
    },
    {
     "name": "stdout",
     "output_type": "stream",
     "text": [
      "Epoch [4/60], Step [2601/4210], Loss: 0.0784, LR: 5.0e-04\n",
      "Epoch [4/60], Step [2801/4210], Loss: 0.1174, LR: 5.0e-04\n",
      "Epoch [4/60], Step [3001/4210], Loss: 0.1685, LR: 5.0e-04\n",
      "Epoch [4/60], Step [3201/4210], Loss: 0.4681, LR: 5.0e-04\n",
      "Epoch [4/60], Step [3401/4210], Loss: 0.4203, LR: 5.0e-04\n",
      "Epoch [4/60], Step [3601/4210], Loss: 0.1513, LR: 5.0e-04\n",
      "Epoch [4/60], Step [3801/4210], Loss: 0.0809, LR: 5.0e-04\n",
      "Epoch [4/60], Step [4001/4210], Loss: 0.1562, LR: 5.0e-04\n",
      "Epoch [4/60], Step [4201/4210], Loss: 0.1776, LR: 5.0e-04\n",
      "Epoch [4/60] summary\n",
      "    Train loss: 0.0119\n",
      "    Validation loss: 0.2004\n",
      "    Accuracy: 0.9364\n",
      "========================================\n",
      "Epoch [5/60], Step [1/4210], Loss: 0.1011, LR: 5.0e-04\n",
      "Epoch [5/60], Step [201/4210], Loss: 0.3077, LR: 5.0e-04\n",
      "Epoch [5/60], Step [401/4210], Loss: 0.0949, LR: 5.0e-04\n"
     ]
    }
   ],
   "source": [
    "num_epochs = 60\n",
    "batch_size = 16\n",
    "learning_rate = 5e-4\n",
    "\n",
    "train_dataloader = DataLoader(train_dataset, batch_size=batch_size, shuffle=True)\n",
    "val_dataloader = DataLoader(val_dataset, batch_size=batch_size)\n",
    "\n",
    "total_steps = num_epochs * len(train_dataloader)\n",
    "warmup_ratio = 0.06\n",
    "warmup_steps = warmup_ratio * total_steps\n",
    "\n",
    "print('========= RUN PARAMETERS: ===============')\n",
    "print(f'Learning rate: {learning_rate:.1e}, batch size: {batch_size}')\n",
    "\n",
    "optimizer = AdamW(\n",
    "    params=model.parameters(),\n",
    "    lr=learning_rate,\n",
    "    betas=(0.9, 0.999),\n",
    "    weight_decay=0.01,\n",
    ")\n",
    "\n",
    "warmup_scheduler = LinearLR(\n",
    "    optimizer=optimizer,\n",
    "    start_factor=0.05,\n",
    "    end_factor=1.0,\n",
    "    total_iters=warmup_steps,\n",
    ")\n",
    "decay_scheduler = LinearLR(\n",
    "    optimizer=optimizer,\n",
    "    start_factor=1.0,\n",
    "    end_factor=0.0,\n",
    "    total_iters=total_steps - warmup_steps,\n",
    ")\n",
    "\n",
    "scheduler = SequentialLR(\n",
    "    optimizer=optimizer,\n",
    "    schedulers=[warmup_scheduler, decay_scheduler],\n",
    "    milestones=[warmup_steps]\n",
    ")\n",
    "\n",
    "\n",
    "# training loop\n",
    "train_losses, val_losses, accuracies = [], [], []\n",
    "for epoch in range(num_epochs):\n",
    "    model.train()\n",
    "\n",
    "    for batch_idx, (x, y) in enumerate(train_dataloader):\n",
    "\n",
    "        # forward\n",
    "        logits = model(**x).logits\n",
    "        loss = F.cross_entropy(logits, y)\n",
    "\n",
    "        # backprop\n",
    "        loss.backward()\n",
    "        optimizer.step()\n",
    "        optimizer.zero_grad()\n",
    "        scheduler.step()\n",
    "        \n",
    "        if batch_idx % 200 == 0:\n",
    "            print(f\"Epoch [{epoch+1}/{num_epochs}], Step [{batch_idx+1}/{len(train_dataloader)}], Loss: {loss.item():.4f}, LR: {scheduler.get_last_lr()[0]:.1e}\")\n",
    "    \n",
    "    # get train loss\n",
    "    train_loss, _ = get_loss_and_accuracy(\n",
    "        model=model,\n",
    "        dataset=train_dataset,\n",
    "        device=device,\n",
    "        eval_ratio=0.1 # evaluate on 10% of train data\n",
    "    )\n",
    "\n",
    "    # Get validation loss and accuracy\n",
    "    val_loss, val_accuracy = get_loss_and_accuracy(\n",
    "        model=model,\n",
    "        dataset=val_dataset,\n",
    "        device=device\n",
    "    )\n",
    "\n",
    "    train_losses.append(train_loss)\n",
    "    val_losses.append(val_loss)\n",
    "    accuracies.append(val_accuracy)\n",
    "\n",
    "    print(f\"Epoch [{epoch+1}/{num_epochs}] summary\")\n",
    "    print(f'    Train loss: {train_loss:.4f}')\n",
    "    print(f'    Validation loss: {val_loss:.4f}')\n",
    "    print(f'    Accuracy: {val_accuracy:.4f}')\n",
    "    print('========================================')\n",
    "\n",
    "print(f'Best accuracy is {max(accuracies):.4f} at epoch {accuracies.index(max(accuracies)) + 1}')\n"
   ]
  }
 ],
 "metadata": {
  "kernelspec": {
   "display_name": "Python 3",
   "language": "python",
   "name": "python3"
  },
  "language_info": {
   "codemirror_mode": {
    "name": "ipython",
    "version": 3
   },
   "file_extension": ".py",
   "mimetype": "text/x-python",
   "name": "python",
   "nbconvert_exporter": "python",
   "pygments_lexer": "ipython3",
   "version": "3.10.12"
  }
 },
 "nbformat": 4,
 "nbformat_minor": 2
}
